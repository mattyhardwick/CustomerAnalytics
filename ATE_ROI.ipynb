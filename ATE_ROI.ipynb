{
 "cells": [
  {
   "cell_type": "markdown",
   "metadata": {},
   "source": [
    "# ATE and ROI\n",
    "This notebook will compute Average Treatment Effect and Return on Investment from running an ad campaign."
   ]
  },
  {
   "cell_type": "markdown",
   "metadata": {},
   "source": [
    "## Data Exploration"
   ]
  },
  {
   "cell_type": "code",
   "execution_count": 2,
   "metadata": {},
   "outputs": [
    {
     "data": {
      "text/html": [
       "<table>\n",
       "<thead><tr><th scope=col>user_id</th><th scope=col>test</th><th scope=col>converted</th><th scope=col>tot_impr</th><th scope=col>mode_impr_day</th><th scope=col>mode_impr_hour</th></tr></thead>\n",
       "<tbody>\n",
       "\t<tr><td>1069124</td><td>1      </td><td>0      </td><td>130    </td><td>1      </td><td>20     </td></tr>\n",
       "\t<tr><td>1119715</td><td>1      </td><td>0      </td><td> 93    </td><td>2      </td><td>22     </td></tr>\n",
       "\t<tr><td>1144181</td><td>1      </td><td>0      </td><td> 21    </td><td>2      </td><td>18     </td></tr>\n",
       "\t<tr><td>1435133</td><td>1      </td><td>0      </td><td>355    </td><td>2      </td><td>10     </td></tr>\n",
       "\t<tr><td>1015700</td><td>1      </td><td>0      </td><td>276    </td><td>5      </td><td>14     </td></tr>\n",
       "\t<tr><td>1137664</td><td>1      </td><td>0      </td><td>734    </td><td>6      </td><td>10     </td></tr>\n",
       "</tbody>\n",
       "</table>\n"
      ],
      "text/latex": [
       "\\begin{tabular}{r|llllll}\n",
       " user\\_id & test & converted & tot\\_impr & mode\\_impr\\_day & mode\\_impr\\_hour\\\\\n",
       "\\hline\n",
       "\t 1069124 & 1       & 0       & 130     & 1       & 20     \\\\\n",
       "\t 1119715 & 1       & 0       &  93     & 2       & 22     \\\\\n",
       "\t 1144181 & 1       & 0       &  21     & 2       & 18     \\\\\n",
       "\t 1435133 & 1       & 0       & 355     & 2       & 10     \\\\\n",
       "\t 1015700 & 1       & 0       & 276     & 5       & 14     \\\\\n",
       "\t 1137664 & 1       & 0       & 734     & 6       & 10     \\\\\n",
       "\\end{tabular}\n"
      ],
      "text/markdown": [
       "\n",
       "user_id | test | converted | tot_impr | mode_impr_day | mode_impr_hour | \n",
       "|---|---|---|---|---|---|\n",
       "| 1069124 | 1       | 0       | 130     | 1       | 20      | \n",
       "| 1119715 | 1       | 0       |  93     | 2       | 22      | \n",
       "| 1144181 | 1       | 0       |  21     | 2       | 18      | \n",
       "| 1435133 | 1       | 0       | 355     | 2       | 10      | \n",
       "| 1015700 | 1       | 0       | 276     | 5       | 14      | \n",
       "| 1137664 | 1       | 0       | 734     | 6       | 10      | \n",
       "\n",
       "\n"
      ],
      "text/plain": [
       "  user_id test converted tot_impr mode_impr_day mode_impr_hour\n",
       "1 1069124 1    0         130      1             20            \n",
       "2 1119715 1    0          93      2             22            \n",
       "3 1144181 1    0          21      2             18            \n",
       "4 1435133 1    0         355      2             10            \n",
       "5 1015700 1    0         276      5             14            \n",
       "6 1137664 1    0         734      6             10            "
      ]
     },
     "metadata": {},
     "output_type": "display_data"
    }
   ],
   "source": [
    "df <- read.csv(\"rocketfuel_data.csv\")\n",
    "head(df)"
   ]
  },
  {
   "cell_type": "code",
   "execution_count": 5,
   "metadata": {},
   "outputs": [
    {
     "data": {
      "text/html": [
       "23524"
      ],
      "text/latex": [
       "23524"
      ],
      "text/markdown": [
       "23524"
      ],
      "text/plain": [
       "[1] 23524"
      ]
     },
     "metadata": {},
     "output_type": "display_data"
    },
    {
     "data": {
      "text/html": [
       "564577"
      ],
      "text/latex": [
       "564577"
      ],
      "text/markdown": [
       "564577"
      ],
      "text/plain": [
       "[1] 564577"
      ]
     },
     "metadata": {},
     "output_type": "display_data"
    },
    {
     "data": {
      "text/html": [
       "1.79"
      ],
      "text/latex": [
       "1.79"
      ],
      "text/markdown": [
       "1.79"
      ],
      "text/plain": [
       "[1] 1.79"
      ]
     },
     "metadata": {},
     "output_type": "display_data"
    },
    {
     "data": {
      "text/html": [
       "2.55"
      ],
      "text/latex": [
       "2.55"
      ],
      "text/markdown": [
       "2.55"
      ],
      "text/plain": [
       "[1] 2.55"
      ]
     },
     "metadata": {},
     "output_type": "display_data"
    }
   ],
   "source": [
    "# check number of control and test users\n",
    "sum( df$test == 0 ) # control\n",
    "sum( df$test == 1 ) # test\n",
    "\n",
    "# check conversion rates\n",
    "round( mean( df$converted[ df$test == 0] ) * 100, 2 )\n",
    "round( mean( df$converted[ df$test == 1] ) * 100, 2 )"
   ]
  },
  {
   "cell_type": "markdown",
   "metadata": {},
   "source": [
    "## ATE"
   ]
  },
  {
   "cell_type": "code",
   "execution_count": 7,
   "metadata": {},
   "outputs": [
    {
     "data": {
      "text/html": [
       "0.7692"
      ],
      "text/latex": [
       "0.7692"
      ],
      "text/markdown": [
       "0.7692"
      ],
      "text/plain": [
       "[1] 0.7692"
      ]
     },
     "metadata": {},
     "output_type": "display_data"
    }
   ],
   "source": [
    "# compute treatment effect \"by hand\"\n",
    "ate <- mean( df$converted[df$test == 1] ) - mean( df$converted[df$test == 0] )\n",
    "ate_pct <- ate * 100\n",
    "round(ate_pct, 4)"
   ]
  },
  {
   "cell_type": "code",
   "execution_count": 8,
   "metadata": {},
   "outputs": [
    {
     "data": {
      "text/plain": [
       "\n",
       "Call:\n",
       "lm(formula = converted ~ test, data = df)\n",
       "\n",
       "Residuals:\n",
       "     Min       1Q   Median       3Q      Max \n",
       "-0.02555 -0.02555 -0.02555 -0.02555  0.98215 \n",
       "\n",
       "Coefficients:\n",
       "            Estimate Std. Error t value Pr(>|t|)    \n",
       "(Intercept) 0.017854   0.001023   17.46  < 2e-16 ***\n",
       "test        0.007692   0.001044    7.37  1.7e-13 ***\n",
       "---\n",
       "Signif. codes:  0 ‘***’ 0.001 ‘**’ 0.01 ‘*’ 0.05 ‘.’ 0.1 ‘ ’ 1\n",
       "\n",
       "Residual standard error: 0.1568 on 588099 degrees of freedom\n",
       "Multiple R-squared:  9.236e-05,\tAdjusted R-squared:  9.066e-05 \n",
       "F-statistic: 54.32 on 1 and 588099 DF,  p-value: 1.703e-13\n"
      ]
     },
     "metadata": {},
     "output_type": "display_data"
    }
   ],
   "source": [
    "# compute treatment effect by regression\n",
    "lm1 <- lm( converted~test, data=df )\n",
    "summary( lm1 )"
   ]
  },
  {
   "cell_type": "markdown",
   "metadata": {},
   "source": [
    "The campaign is effective, increasing conversions by 0.7692%."
   ]
  },
  {
   "cell_type": "markdown",
   "metadata": {},
   "source": [
    "## ROI"
   ]
  },
  {
   "cell_type": "code",
   "execution_count": 11,
   "metadata": {},
   "outputs": [
    {
     "data": {
      "text/html": [
       "<strong>test:</strong> 4342.98"
      ],
      "text/latex": [
       "\\textbf{test:} 4342.98"
      ],
      "text/markdown": [
       "**test:** 4342.98"
      ],
      "text/plain": [
       "   test \n",
       "4342.98 "
      ]
     },
     "metadata": {},
     "output_type": "display_data"
    }
   ],
   "source": [
    "# incremental conversions from campaign\n",
    "inc_con <- sum( df$test == 1 ) * lm1$coefficients[\"test\"]\n",
    "round(inc_con, 2)"
   ]
  },
  {
   "cell_type": "code",
   "execution_count": 13,
   "metadata": {},
   "outputs": [
    {
     "data": {
      "text/html": [
       "<strong>test:</strong> 173719.29"
      ],
      "text/latex": [
       "\\textbf{test:} 173719.29"
      ],
      "text/markdown": [
       "**test:** 173719.29"
      ],
      "text/plain": [
       "    test \n",
       "173719.3 "
      ]
     },
     "metadata": {},
     "output_type": "display_data"
    }
   ],
   "source": [
    "# incremental profit from campaign, averaging $40 per conversion\n",
    "inc_pft <- inc_con * 40\n",
    "round(inc_pft, 2)"
   ]
  },
  {
   "cell_type": "markdown",
   "metadata": {},
   "source": [
    "Running the campaign increased conversions by about 4,342.98 and profit by about \\$173,719.29"
   ]
  },
  {
   "cell_type": "code",
   "execution_count": 16,
   "metadata": {},
   "outputs": [
    {
     "data": {
      "text/html": [
       "131374.64"
      ],
      "text/latex": [
       "131374.64"
      ],
      "text/markdown": [
       "131374.64"
      ],
      "text/plain": [
       "[1] 131374.6"
      ]
     },
     "metadata": {},
     "output_type": "display_data"
    }
   ],
   "source": [
    "# compute campaign cost, $9 CPM\n",
    "cost <- sum(df$tot_impr) / 1000 * 9\n",
    "round(cost, 2)"
   ]
  },
  {
   "cell_type": "code",
   "execution_count": 18,
   "metadata": {},
   "outputs": [
    {
     "data": {
      "text/html": [
       "<strong>test:</strong> 32.23"
      ],
      "text/latex": [
       "\\textbf{test:} 32.23"
      ],
      "text/markdown": [
       "**test:** 32.23"
      ],
      "text/plain": [
       " test \n",
       "32.23 "
      ]
     },
     "metadata": {},
     "output_type": "display_data"
    }
   ],
   "source": [
    "# compute ROI\n",
    "ROI <- 100 * (inc_pft - cost) / cost\n",
    "round(ROI, 2)"
   ]
  },
  {
   "cell_type": "markdown",
   "metadata": {},
   "source": [
    "With a campaign cost of \\$131,374.64, the return on investment is 32.23%."
   ]
  },
  {
   "cell_type": "code",
   "execution_count": 19,
   "metadata": {},
   "outputs": [
    {
     "data": {
      "text/html": [
       "<strong>test:</strong> 7238.29"
      ],
      "text/latex": [
       "\\textbf{test:} 7238.29"
      ],
      "text/markdown": [
       "**test:** 7238.29"
      ],
      "text/plain": [
       "   test \n",
       "7238.29 "
      ]
     },
     "metadata": {},
     "output_type": "display_data"
    }
   ],
   "source": [
    "# compute additional profit if ad was shown to control group\n",
    "inc_con2 <- sum( df$test == 0 ) * lm1$coefficients[\"test\"]\n",
    "inc_pft2 <- inc_con2 * 40\n",
    "round(inc_pft2, 2)"
   ]
  },
  {
   "cell_type": "markdown",
   "metadata": {},
   "source": [
    "Showing the ad to the control group would increase profit by \\$7,238.29"
   ]
  },
  {
   "cell_type": "code",
   "execution_count": null,
   "metadata": {},
   "outputs": [],
   "source": []
  }
 ],
 "metadata": {
  "kernelspec": {
   "display_name": "R",
   "language": "R",
   "name": "ir"
  },
  "language_info": {
   "codemirror_mode": "r",
   "file_extension": ".r",
   "mimetype": "text/x-r-source",
   "name": "R",
   "pygments_lexer": "r",
   "version": "3.5.1"
  }
 },
 "nbformat": 4,
 "nbformat_minor": 2
}
