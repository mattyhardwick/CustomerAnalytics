{
 "cells": [
  {
   "cell_type": "markdown",
   "metadata": {},
   "source": [
    "# Probability and Utility\n",
    "This notebook computes utilities and choice probabilities of four competing ketchup brands. We will also make choice predictions and compute marginal effects."
   ]
  },
  {
   "cell_type": "markdown",
   "metadata": {},
   "source": [
    "## Data Exploration"
   ]
  },
  {
   "cell_type": "code",
   "execution_count": 1,
   "metadata": {},
   "outputs": [
    {
     "data": {
      "text/html": [
       "<table>\n",
       "<thead><tr><th scope=col>shopper_id</th><th scope=col>trip_id</th><th scope=col>choice</th><th scope=col>price.heinz</th><th scope=col>price.hunts</th><th scope=col>price.delmonte</th><th scope=col>price.stb</th><th scope=col>southeast</th></tr></thead>\n",
       "<tbody>\n",
       "\t<tr><td>1    </td><td>1    </td><td>heinz</td><td>1.19 </td><td>1.39 </td><td>1.49 </td><td>0.89 </td><td>1    </td></tr>\n",
       "\t<tr><td>1    </td><td>2    </td><td>heinz</td><td>0.99 </td><td>1.36 </td><td>1.39 </td><td>0.95 </td><td>1    </td></tr>\n",
       "\t<tr><td>1    </td><td>3    </td><td>hunts</td><td>1.46 </td><td>1.43 </td><td>1.49 </td><td>0.99 </td><td>1    </td></tr>\n",
       "\t<tr><td>1    </td><td>4    </td><td>hunts</td><td>1.46 </td><td>1.43 </td><td>1.45 </td><td>0.99 </td><td>1    </td></tr>\n",
       "\t<tr><td>1    </td><td>5    </td><td>stb  </td><td>1.46 </td><td>1.36 </td><td>1.39 </td><td>0.95 </td><td>1    </td></tr>\n",
       "\t<tr><td>2    </td><td>1    </td><td>heinz</td><td>0.99 </td><td>1.36 </td><td>1.47 </td><td>0.95 </td><td>0    </td></tr>\n",
       "</tbody>\n",
       "</table>\n"
      ],
      "text/latex": [
       "\\begin{tabular}{r|llllllll}\n",
       " shopper\\_id & trip\\_id & choice & price.heinz & price.hunts & price.delmonte & price.stb & southeast\\\\\n",
       "\\hline\n",
       "\t 1     & 1     & heinz & 1.19  & 1.39  & 1.49  & 0.89  & 1    \\\\\n",
       "\t 1     & 2     & heinz & 0.99  & 1.36  & 1.39  & 0.95  & 1    \\\\\n",
       "\t 1     & 3     & hunts & 1.46  & 1.43  & 1.49  & 0.99  & 1    \\\\\n",
       "\t 1     & 4     & hunts & 1.46  & 1.43  & 1.45  & 0.99  & 1    \\\\\n",
       "\t 1     & 5     & stb   & 1.46  & 1.36  & 1.39  & 0.95  & 1    \\\\\n",
       "\t 2     & 1     & heinz & 0.99  & 1.36  & 1.47  & 0.95  & 0    \\\\\n",
       "\\end{tabular}\n"
      ],
      "text/markdown": [
       "\n",
       "shopper_id | trip_id | choice | price.heinz | price.hunts | price.delmonte | price.stb | southeast | \n",
       "|---|---|---|---|---|---|\n",
       "| 1     | 1     | heinz | 1.19  | 1.39  | 1.49  | 0.89  | 1     | \n",
       "| 1     | 2     | heinz | 0.99  | 1.36  | 1.39  | 0.95  | 1     | \n",
       "| 1     | 3     | hunts | 1.46  | 1.43  | 1.49  | 0.99  | 1     | \n",
       "| 1     | 4     | hunts | 1.46  | 1.43  | 1.45  | 0.99  | 1     | \n",
       "| 1     | 5     | stb   | 1.46  | 1.36  | 1.39  | 0.95  | 1     | \n",
       "| 2     | 1     | heinz | 0.99  | 1.36  | 1.47  | 0.95  | 0     | \n",
       "\n",
       "\n"
      ],
      "text/plain": [
       "  shopper_id trip_id choice price.heinz price.hunts price.delmonte price.stb\n",
       "1 1          1       heinz  1.19        1.39        1.49           0.89     \n",
       "2 1          2       heinz  0.99        1.36        1.39           0.95     \n",
       "3 1          3       hunts  1.46        1.43        1.49           0.99     \n",
       "4 1          4       hunts  1.46        1.43        1.45           0.99     \n",
       "5 1          5       stb    1.46        1.36        1.39           0.95     \n",
       "6 2          1       heinz  0.99        1.36        1.47           0.95     \n",
       "  southeast\n",
       "1 1        \n",
       "2 1        \n",
       "3 1        \n",
       "4 1        \n",
       "5 1        \n",
       "6 0        "
      ]
     },
     "metadata": {},
     "output_type": "display_data"
    }
   ],
   "source": [
    "DF <- read.csv(\"ketchup_data.csv\")\n",
    "head(DF)"
   ]
  },
  {
   "cell_type": "code",
   "execution_count": 2,
   "metadata": {},
   "outputs": [
    {
     "data": {
      "text/plain": [
       "\n",
       "  delmonte      heinz      hunts        stb \n",
       "0.05165456 0.50968523 0.20560936 0.23305085 "
      ]
     },
     "metadata": {},
     "output_type": "display_data"
    }
   ],
   "source": [
    "# compute market shares\n",
    "table(DF$choice) / nrow(DF)"
   ]
  },
  {
   "cell_type": "markdown",
   "metadata": {},
   "source": [
    "Note that the data is in wide form and must be transformed to long form. The index columns of the alternate-specific variable 'price' is 4:7."
   ]
  },
  {
   "cell_type": "code",
   "execution_count": 6,
   "metadata": {},
   "outputs": [],
   "source": [
    "# transform wide data to long form\n",
    "library(mlogit)\n",
    "DF_long <- mlogit.data( DF, shape = \"wide\", choice = \"choice\", sep = \".\", varying = c(4:7) )"
   ]
  },
  {
   "cell_type": "markdown",
   "metadata": {},
   "source": [
    "## Modeling and Comparison"
   ]
  },
  {
   "cell_type": "code",
   "execution_count": 7,
   "metadata": {},
   "outputs": [
    {
     "data": {
      "text/plain": [
       "\n",
       "Call:\n",
       "mlogit(formula = choice ~ 0 | 1 | 0, data = DF_long, method = \"nr\", \n",
       "    print.level = 0)\n",
       "\n",
       "Frequencies of alternatives:\n",
       "delmonte    heinz    hunts      stb \n",
       "0.051655 0.509685 0.205609 0.233051 \n",
       "\n",
       "nr method\n",
       "5 iterations, 0h:0m:0s \n",
       "g'(-H)^-1g = 4.02E-08 \n",
       "gradient close to zero \n",
       "\n",
       "Coefficients :\n",
       "                  Estimate Std. Error z-value  Pr(>|z|)    \n",
       "heinz:(intercept) 2.289215   0.065591  34.901 < 2.2e-16 ***\n",
       "hunts:(intercept) 1.381400   0.069911  19.759 < 2.2e-16 ***\n",
       "stb:(intercept)   1.506678   0.069080  21.811 < 2.2e-16 ***\n",
       "---\n",
       "Signif. codes:  0 ‘***’ 0.001 ‘**’ 0.01 ‘*’ 0.05 ‘.’ 0.1 ‘ ’ 1\n",
       "\n",
       "Log-Likelihood: -5755.1\n",
       "McFadden R^2:  0 \n",
       "Likelihood ratio test : chisq = 0 (p.value = 1)"
      ]
     },
     "metadata": {},
     "output_type": "display_data"
    }
   ],
   "source": [
    "# model with intercepts only\n",
    "logit1 <- mlogit(choice ~ 0 | 1 | 0, data = DF_long)\n",
    "summary(logit1)"
   ]
  },
  {
   "cell_type": "markdown",
   "metadata": {},
   "source": [
    "Delmonte is the baseline alternative.\n",
    "\n",
    "The utility and log-odds of choosing heinz over delmonte is 2.29.\n",
    "\n",
    "The utility and log-odds of choosing hunts over delmonte is 1.38.\n",
    "\n",
    "The utility and log-odds of choosing stb over delmonte is 1.51."
   ]
  },
  {
   "cell_type": "code",
   "execution_count": 8,
   "metadata": {},
   "outputs": [
    {
     "data": {
      "text/plain": [
       "\n",
       "Call:\n",
       "mlogit(formula = choice ~ price | 1 | 0, data = DF_long, method = \"nr\", \n",
       "    print.level = 0)\n",
       "\n",
       "Frequencies of alternatives:\n",
       "delmonte    heinz    hunts      stb \n",
       "0.051655 0.509685 0.205609 0.233051 \n",
       "\n",
       "nr method\n",
       "5 iterations, 0h:0m:0s \n",
       "g'(-H)^-1g = 7.23E-07 \n",
       "gradient close to zero \n",
       "\n",
       "Coefficients :\n",
       "                   Estimate Std. Error  z-value  Pr(>|z|)    \n",
       "heinz:(intercept)  1.743609   0.069922  24.9365 < 2.2e-16 ***\n",
       "hunts:(intercept)  1.070434   0.074099  14.4459 < 2.2e-16 ***\n",
       "stb:(intercept)   -0.520243   0.086088  -6.0431 1.511e-09 ***\n",
       "price             -4.321122   0.112277 -38.4861 < 2.2e-16 ***\n",
       "---\n",
       "Signif. codes:  0 ‘***’ 0.001 ‘**’ 0.01 ‘*’ 0.05 ‘.’ 0.1 ‘ ’ 1\n",
       "\n",
       "Log-Likelihood: -4896.7\n",
       "McFadden R^2:  0.14914 \n",
       "Likelihood ratio test : chisq = 1716.7 (p.value = < 2.22e-16)"
      ]
     },
     "metadata": {},
     "output_type": "display_data"
    }
   ],
   "source": [
    "# model with intercepts and price\n",
    "logit2 <- mlogit(choice ~ price | 1 | 0, data = DF_long)\n",
    "summary(logit2)"
   ]
  },
  {
   "cell_type": "markdown",
   "metadata": {},
   "source": [
    "A one dollar increase in price decreases alternative utility and log-odds by 4.32 relative to any other product."
   ]
  },
  {
   "cell_type": "code",
   "execution_count": 9,
   "metadata": {},
   "outputs": [
    {
     "data": {
      "text/plain": [
       "\n",
       "Call:\n",
       "mlogit(formula = choice ~ price | southeast + 1 | 0, data = DF_long, \n",
       "    method = \"nr\", print.level = 0)\n",
       "\n",
       "Frequencies of alternatives:\n",
       "delmonte    heinz    hunts      stb \n",
       "0.051655 0.509685 0.205609 0.233051 \n",
       "\n",
       "nr method\n",
       "7 iterations, 0h:0m:0s \n",
       "g'(-H)^-1g = 1.05E-06 \n",
       "successive function values within tolerance limits \n",
       "\n",
       "Coefficients :\n",
       "                   Estimate Std. Error  z-value  Pr(>|z|)    \n",
       "heinz:(intercept)  1.732663   0.072985  23.7399 < 2.2e-16 ***\n",
       "hunts:(intercept) -0.037445   0.090357  -0.4144    0.6786    \n",
       "stb:(intercept)   -0.799171   0.092545  -8.6355 < 2.2e-16 ***\n",
       "price             -4.583948   0.124274 -36.8859 < 2.2e-16 ***\n",
       "heinz:southeast   -0.162705   0.309039  -0.5265    0.5986    \n",
       "hunts:southeast    3.776106   0.299897  12.5914 < 2.2e-16 ***\n",
       "stb:southeast      1.529874   0.299641   5.1057 3.296e-07 ***\n",
       "---\n",
       "Signif. codes:  0 ‘***’ 0.001 ‘**’ 0.01 ‘*’ 0.05 ‘.’ 0.1 ‘ ’ 1\n",
       "\n",
       "Log-Likelihood: -4206.1\n",
       "McFadden R^2:  0.26915 \n",
       "Likelihood ratio test : chisq = 3098 (p.value = < 2.22e-16)"
      ]
     },
     "metadata": {},
     "output_type": "display_data"
    }
   ],
   "source": [
    "# model with intercepts, price, and southeast\n",
    "logit3 <- mlogit(choice ~ price | southeast + 1 | 0, data = DF_long)\n",
    "summary(logit3)"
   ]
  },
  {
   "cell_type": "markdown",
   "metadata": {},
   "source": [
    "Consumers in southeastern states receive 3.78 more utility for choosing hunts over delmonte. Additionally, southeastern consumer's log-odds of purchasing heinz is 3.78 more than consumers in other states.\n",
    "\n",
    "Similar interpretation for heinz and stb.\n",
    "\n",
    "This is the best fit model, as it has the least negative log-likelihood and highest McFadden R^2."
   ]
  },
  {
   "cell_type": "markdown",
   "metadata": {},
   "source": [
    "## Predicting Choice Probabilities"
   ]
  },
  {
   "cell_type": "code",
   "execution_count": 11,
   "metadata": {},
   "outputs": [
    {
     "data": {
      "text/html": [
       "<dl class=dl-horizontal>\n",
       "\t<dt>delmonte</dt>\n",
       "\t\t<dd>0.0517</dd>\n",
       "\t<dt>heinz</dt>\n",
       "\t\t<dd>0.5097</dd>\n",
       "\t<dt>hunts</dt>\n",
       "\t\t<dd>0.2056</dd>\n",
       "\t<dt>stb</dt>\n",
       "\t\t<dd>0.2331</dd>\n",
       "</dl>\n"
      ],
      "text/latex": [
       "\\begin{description*}\n",
       "\\item[delmonte] 0.0517\n",
       "\\item[heinz] 0.5097\n",
       "\\item[hunts] 0.2056\n",
       "\\item[stb] 0.2331\n",
       "\\end{description*}\n"
      ],
      "text/markdown": [
       "delmonte\n",
       ":   0.0517heinz\n",
       ":   0.5097hunts\n",
       ":   0.2056stb\n",
       ":   0.2331\n",
       "\n"
      ],
      "text/plain": [
       "delmonte    heinz    hunts      stb \n",
       "  0.0517   0.5097   0.2056   0.2331 "
      ]
     },
     "metadata": {},
     "output_type": "display_data"
    }
   ],
   "source": [
    "# create a matrix of fitted probabilities\n",
    "P1 <- fitted(logit3, outcome = FALSE)\n",
    "round(colMeans(P1), 4)"
   ]
  },
  {
   "cell_type": "markdown",
   "metadata": {},
   "source": [
    "The average sample choice probability predictions are the same as the observed choice probabilities."
   ]
  },
  {
   "cell_type": "code",
   "execution_count": 14,
   "metadata": {},
   "outputs": [
    {
     "data": {
      "text/html": [
       "-43.08"
      ],
      "text/latex": [
       "-43.08"
      ],
      "text/markdown": [
       "-43.08"
      ],
      "text/plain": [
       "[1] -43.08"
      ]
     },
     "metadata": {},
     "output_type": "display_data"
    }
   ],
   "source": [
    "# compute marginal effect of changing hunt's price on hunt's choice probability\n",
    "me_hunt_PriceHunt <- mean(P1[,3] * (1 - P1[,3]) * logit3$coefficients['price'])\n",
    "round(me_hunt_PriceHunt * 100, 2)"
   ]
  },
  {
   "cell_type": "markdown",
   "metadata": {},
   "source": [
    "A one dollar increase in hunt's price decreases probability of purchase by 43.08%."
   ]
  },
  {
   "cell_type": "code",
   "execution_count": 15,
   "metadata": {},
   "outputs": [
    {
     "data": {
      "text/html": [
       "20.47"
      ],
      "text/latex": [
       "20.47"
      ],
      "text/markdown": [
       "20.47"
      ],
      "text/plain": [
       "[1] 20.47"
      ]
     },
     "metadata": {},
     "output_type": "display_data"
    }
   ],
   "source": [
    "# compute marginal effect of changing heinz's price on hunt's choice probability\n",
    "me_hunt_PriceHeinz <- mean(-logit3$coefficients['price'] * P1[,2] * P1[,3])\n",
    "round(me_hunt_PriceHeinz * 100, 2)"
   ]
  },
  {
   "cell_type": "markdown",
   "metadata": {},
   "source": [
    "A one dollar increase in heinz's price increases probability of purchasing hunt by 20.47%."
   ]
  },
  {
   "cell_type": "code",
   "execution_count": 17,
   "metadata": {},
   "outputs": [
    {
     "data": {
      "text/html": [
       "-10.77"
      ],
      "text/latex": [
       "-10.77"
      ],
      "text/markdown": [
       "-10.77"
      ],
      "text/plain": [
       "[1] -10.77"
      ]
     },
     "metadata": {},
     "output_type": "display_data"
    }
   ],
   "source": [
    "# compute effect on hunt's choice probability by increasing hunt's price by $0.25\n",
    "round(me_hunt_PriceHunt * 0.25 * 100, 2)"
   ]
  },
  {
   "cell_type": "markdown",
   "metadata": {},
   "source": [
    "Increasing hunt's price by $0.25 decreases choice probability by 10.77%."
   ]
  },
  {
   "cell_type": "code",
   "execution_count": 18,
   "metadata": {},
   "outputs": [
    {
     "data": {
      "text/html": [
       "5.12"
      ],
      "text/latex": [
       "5.12"
      ],
      "text/markdown": [
       "5.12"
      ],
      "text/plain": [
       "[1] 5.12"
      ]
     },
     "metadata": {},
     "output_type": "display_data"
    }
   ],
   "source": [
    "# compute effect on hunt's choice probability by increasing heinz's price by $0.25\n",
    "round(me_hunt_PriceHeinz * 0.25 * 100, 2)"
   ]
  },
  {
   "cell_type": "markdown",
   "metadata": {},
   "source": [
    "Increasing heinz's price by $0.25 increases hunt's choice probability by 5.12%."
   ]
  },
  {
   "cell_type": "code",
   "execution_count": 19,
   "metadata": {},
   "outputs": [
    {
     "data": {
      "text/html": [
       "-0.58"
      ],
      "text/latex": [
       "-0.58"
      ],
      "text/markdown": [
       "-0.58"
      ],
      "text/plain": [
       "[1] -0.58"
      ]
     },
     "metadata": {},
     "output_type": "display_data"
    }
   ],
   "source": [
    "# compute effect on hunt's choice probability by increasing hunt's price by 1%\n",
    "round(mean(DF$price.hunts) * me_hunt_PriceHunt * 0.01 * 100, 2)"
   ]
  },
  {
   "cell_type": "markdown",
   "metadata": {},
   "source": [
    "Increasing hunt's price by 1% decreases choice probability by 0.58%."
   ]
  },
  {
   "cell_type": "code",
   "execution_count": null,
   "metadata": {},
   "outputs": [],
   "source": []
  }
 ],
 "metadata": {
  "kernelspec": {
   "display_name": "R",
   "language": "R",
   "name": "ir"
  },
  "language_info": {
   "codemirror_mode": "r",
   "file_extension": ".r",
   "mimetype": "text/x-r-source",
   "name": "R",
   "pygments_lexer": "r",
   "version": "3.5.1"
  }
 },
 "nbformat": 4,
 "nbformat_minor": 2
}
